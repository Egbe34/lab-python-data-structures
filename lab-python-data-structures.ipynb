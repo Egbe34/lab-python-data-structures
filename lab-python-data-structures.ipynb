{
 "cells": [
  {
   "cell_type": "markdown",
   "metadata": {
    "tags": []
   },
   "source": [
    "# Lab | Data Structures "
   ]
  },
  {
   "cell_type": "markdown",
   "metadata": {},
   "source": [
    "## Exercise: Managing Customer Orders\n",
    "\n",
    "As part of a business venture, you are starting an online store that sells various products. To ensure smooth operations, you need to develop a program that manages customer orders and inventory.\n",
    "\n",
    "Follow the steps below to complete the exercise:\n",
    "\n",
    "1. Define a list called `products` that contains the following items: \"t-shirt\", \"mug\", \"hat\", \"book\", \"keychain\".\n",
    "\n",
    "2. Create an empty dictionary called `inventory`.\n",
    "\n",
    "3. Ask the user to input the quantity of each product available in the inventory. Use the product names from the `products` list as keys in the `inventory` dictionary and assign the respective quantities as values.\n",
    "\n",
    "4. Create an empty set called `customer_orders`.\n",
    "\n",
    "5. Ask the user to input the name of three products that a customer wants to order (from those in the products list, meaning three products out of \"t-shirt\", \"mug\", \"hat\", \"book\" or \"keychain\". Add each product name to the `customer_orders` set.\n",
    "\n",
    "6. Print the products in the `customer_orders` set.\n",
    "\n",
    "7. Calculate the following order statistics:\n",
    "   - Total Products Ordered: The total number of products in the `customer_orders` set.\n",
    "   - Percentage of Products Ordered: The percentage of products ordered compared to the total available products.\n",
    "   \n",
    "   Store these statistics in a tuple called `order_status`.\n",
    "\n",
    "8. Print the order statistics using the following format:\n",
    "   ```\n",
    "   Order Statistics:\n",
    "   Total Products Ordered: <total_products_ordered>\n",
    "   Percentage of Products Ordered: <percentage_ordered>% \n",
    "   ```\n",
    "\n",
    "9. Update the inventory by subtracting 1 from the quantity of each product. Modify the `inventory` dictionary accordingly.\n",
    "\n",
    "10. Print the updated inventory, displaying the quantity of each product on separate lines.\n",
    "\n",
    "Solve the exercise by implementing the steps using the Python concepts of lists, dictionaries, sets, and basic input/output operations. "
   ]
  },
  {
   "cell_type": "code",
   "execution_count": 1,
   "metadata": {},
   "outputs": [
    {
     "name": "stdout",
     "output_type": "stream",
     "text": [
      "Enter the quantity available for each product:\n"
     ]
    },
    {
     "name": "stdin",
     "output_type": "stream",
     "text": [
      "t-shirt:  10\n",
      "mug:  5\n",
      "hat:  3\n",
      "book:  7\n",
      "keychain:  4\n"
     ]
    },
    {
     "name": "stdout",
     "output_type": "stream",
     "text": [
      "\n",
      "Enter 3 products the customer wants to order (choose from t-shirt, mug, hat, book, keychain):\n"
     ]
    },
    {
     "name": "stdin",
     "output_type": "stream",
     "text": [
      "Product 1:  mug\n",
      "Product 2:  hat\n",
      "Product 3:  book\n"
     ]
    },
    {
     "name": "stdout",
     "output_type": "stream",
     "text": [
      "\n",
      "Products in customer order:\n",
      "- book\n",
      "- mug\n",
      "- hat\n",
      "\n",
      "Order Statistics:\n",
      "Total Products Ordered: 3\n",
      "Percentage of Products Ordered: 60.00%\n",
      "\n",
      "Updated Inventory:\n",
      "t-shirt: 10\n",
      "mug: 4\n",
      "hat: 2\n",
      "book: 6\n",
      "keychain: 4\n"
     ]
    }
   ],
   "source": [
    "# Step 1: Define product list\n",
    "products = [\"t-shirt\", \"mug\", \"hat\", \"book\", \"keychain\"]\n",
    "\n",
    "# Step 2: Create empty inventory dictionary\n",
    "inventory = {}\n",
    "\n",
    "# Step 3: Ask user to input quantity for each product\n",
    "print(\"Enter the quantity available for each product:\")\n",
    "for product in products:\n",
    "    quantity = int(input(f\"{product}: \"))\n",
    "    inventory[product] = quantity\n",
    "\n",
    "# Step 4: Create empty set for customer orders\n",
    "customer_orders = set()\n",
    "\n",
    "# Step 5: Get 3 product orders from customer\n",
    "print(\"\\nEnter 3 products the customer wants to order (choose from t-shirt, mug, hat, book, keychain):\")\n",
    "while len(customer_orders) < 3:\n",
    "    order = input(f\"Product {len(customer_orders)+1}: \").strip().lower()\n",
    "    if order in products:\n",
    "        customer_orders.add(order)\n",
    "    else:\n",
    "        print(\"Invalid product. Please choose from the available products.\")\n",
    "\n",
    "# Step 6: Print ordered products\n",
    "print(\"\\nProducts in customer order:\")\n",
    "for item in customer_orders:\n",
    "    print(\"-\", item)\n",
    "\n",
    "# Step 7: Calculate order statistics\n",
    "total_products_ordered = len(customer_orders)\n",
    "percentage_ordered = (total_products_ordered / len(products)) * 100\n",
    "order_status = (total_products_ordered, percentage_ordered)\n",
    "\n",
    "# Step 8: Print order statistics\n",
    "print(\"\\nOrder Statistics:\")\n",
    "print(\"Total Products Ordered:\", order_status[0])\n",
    "print(f\"Percentage of Products Ordered: {order_status[1]:.2f}%\")\n",
    "\n",
    "# Step 9: Update inventory (subtract 1 for each ordered product)\n",
    "for item in customer_orders:\n",
    "    inventory[item] -= 1  # assume customer ordered one unit per product\n",
    "\n",
    "# Step 10: Print updated inventory\n",
    "print(\"\\nUpdated Inventory:\")\n",
    "for product, qty in inventory.items():\n",
    "    print(f\"{product}: {qty}\")\n"
   ]
  },
  {
   "cell_type": "code",
   "execution_count": null,
   "metadata": {},
   "outputs": [],
   "source": []
  }
 ],
 "metadata": {
  "kernelspec": {
   "display_name": "Python [conda env:base] *",
   "language": "python",
   "name": "conda-base-py"
  },
  "language_info": {
   "codemirror_mode": {
    "name": "ipython",
    "version": 3
   },
   "file_extension": ".py",
   "mimetype": "text/x-python",
   "name": "python",
   "nbconvert_exporter": "python",
   "pygments_lexer": "ipython3",
   "version": "3.12.7"
  }
 },
 "nbformat": 4,
 "nbformat_minor": 4
}
